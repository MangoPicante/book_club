{
 "cells": [
  {
   "cell_type": "code",
   "execution_count": 1,
   "id": "8dbbde6a-6d7b-410b-a0f5-9fd4e9580351",
   "metadata": {},
   "outputs": [],
   "source": [
    "from bs4 import BeautifulSoup\n",
    "import pandas as pd\n",
    "import requests"
   ]
  },
  {
   "cell_type": "code",
   "execution_count": 2,
   "id": "e344d34a-eca7-41e0-9781-3f9115c25645",
   "metadata": {},
   "outputs": [],
   "source": [
    "# Returns BeautifulSoup for the given url\n",
    "def soup_cooker(url):\n",
    "    # Fetch\n",
    "    response = requests.get(url)\n",
    "\n",
    "    # Parse\n",
    "    soup = BeautifulSoup(response.text, 'html.parser')\n",
    "\n",
    "    return soup"
   ]
  },
  {
   "cell_type": "code",
   "execution_count": 7,
   "id": "fab7b627-1957-472b-b2bf-79b9654b29cd",
   "metadata": {},
   "outputs": [],
   "source": [
    "# Generates or updates pickle file containing book_soups\n",
    "def soup_kitchen(source):\n",
    "    # Reads the book_club pickle file\n",
    "    book_club = pd.read_pickle('book_club.pkl')\n",
    "    # Gets list of non-null urls from book_club dataframe\n",
    "    uncooked_soups = book_club[source].dropna()\n",
    "    # Concats the filename from the passed source\n",
    "    file = source + '.pkl'\n",
    "    # Tries to read from existing file\n",
    "    try:\n",
    "        cooked_soups = pd.read_pickle(file)\n",
    "        uncooked_soups = uncooked_soups[~uncooked_soups.index.isin(cooked_soups.index)]\n",
    "    except FileNotFoundError:\n",
    "        print('No existing', source, 'backup found, generating new')\n",
    "    # Makes sure that there are new urls to cook\n",
    "    if uncooked_soups.shape[0] > 0:\n",
    "        # creates new Series holding the url soups\n",
    "        book_soups = uncooked_soups.apply(soup_cooker)\n",
    "        # stores the soup Series into a pickle\n",
    "        book_soups.to_pickle(file)"
   ]
  },
  {
   "cell_type": "code",
   "execution_count": 8,
   "id": "3695a0a4-ac6b-4f27-9bd8-0e3e9267b76f",
   "metadata": {},
   "outputs": [],
   "source": [
    "soup_kitchen('goodreads')"
   ]
  },
  {
   "cell_type": "code",
   "execution_count": null,
   "id": "2af1da05-3a89-4738-81f2-0c0634b4f818",
   "metadata": {},
   "outputs": [],
   "source": [
    "soup_kitchen('audible')"
   ]
  },
  {
   "cell_type": "code",
   "execution_count": null,
   "id": "fa158dd4-3569-46fd-b97f-e72752de809c",
   "metadata": {},
   "outputs": [],
   "source": [
    "# Read Rating\n",
    "#    rating = float(soup.find('div', {'class': 'RatingStatistics__rating'}).contents[0])"
   ]
  }
 ],
 "metadata": {
  "kernelspec": {
   "display_name": "Python 3 (ipykernel)",
   "language": "python",
   "name": "python3"
  },
  "language_info": {
   "codemirror_mode": {
    "name": "ipython",
    "version": 3
   },
   "file_extension": ".py",
   "mimetype": "text/x-python",
   "name": "python",
   "nbconvert_exporter": "python",
   "pygments_lexer": "ipython3",
   "version": "3.12.1"
  }
 },
 "nbformat": 4,
 "nbformat_minor": 5
}

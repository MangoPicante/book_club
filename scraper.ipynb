{
 "cells": [
  {
   "cell_type": "code",
   "execution_count": 1,
   "id": "8dbbde6a-6d7b-410b-a0f5-9fd4e9580351",
   "metadata": {
    "editable": true,
    "slideshow": {
     "slide_type": ""
    },
    "tags": []
   },
   "outputs": [],
   "source": [
    "from bs4 import BeautifulSoup\n",
    "import pandas as pd\n",
    "import requests\n",
    "# Reads the book_club json file\n",
    "book_club = pd.read_json('book_club.json', orient='records')\n",
    "if 'g_published' in book_club.columns:\n",
    "    book_club[['meeting','g_published']] = book_club[['meeting','g_published']].apply(lambda x: pd.to_datetime(x, unit='ms'))\n",
    "else:\n",
    "    book_club['meeting'] = pd.to_datetime(book_club['meeting'],unit='ms')\n",
    "pd.set_option('display.max_colwidth', None)"
   ]
  },
  {
   "cell_type": "code",
   "execution_count": 2,
   "id": "e344d34a-eca7-41e0-9781-3f9115c25645",
   "metadata": {},
   "outputs": [],
   "source": [
    "# Returns BeautifulSoup for the given url\n",
    "def soup_cooker(url):\n",
    "    # Fetch\n",
    "    try:\n",
    "        response = requests.get(url)\n",
    "    except Exception as e:\n",
    "        print('Connection Error', str(e))\n",
    "        return None\n",
    "    # Parse\n",
    "    soup = BeautifulSoup(response.text, 'html.parser')\n",
    "    # extracts title from soup\n",
    "    title = soup.find('title').contents[0]\n",
    "    print('Scraping:',title)\n",
    "    return soup"
   ]
  },
  {
   "cell_type": "code",
   "execution_count": 3,
   "id": "b4578cfd-e46d-49db-a26c-4bde34f5a3f8",
   "metadata": {},
   "outputs": [],
   "source": [
    "# Returns the url that matches the book name \n",
    "import webbrowser\n",
    "def g_url(row):\n",
    "    book = row['book'].lower()\n",
    "    soup = soup_cooker(row['goodreads search'])\n",
    "    # finds the anchor tags of the first page\n",
    "    anchor_tags = soup.find_all('a', {'class' : 'bookTitle'})\n",
    "    # splits the anchor tags into title and converts href into a full url, trimming search info\n",
    "    title_url_tuples = [(anchor_tag.span.text.lower(), 'https://www.goodreads.com' + anchor_tag['href'].split('?')[0]) for anchor_tag in anchor_tags]\n",
    "    # finds the author tags of the first page\n",
    "    author_tags = soup.find_all('span', {'itemprop' : 'author'})\n",
    "    # creates a mask of any results that contain an adapter in the author list\n",
    "    mask = [len(author_tag.find_all(string='(Adapter)')) == 0 for author_tag in author_tags]\n",
    "    search_results = [tuple for tuple, bool in zip(title_url_tuples, mask) if bool]\n",
    "    # checks search results for exact matches to the title, returns the first matching url\n",
    "    for result in search_results:\n",
    "        if result[0] == book:\n",
    "            return result[1]\n",
    "    # checks search results for titles that start with the book, returns first matching url\n",
    "    for result in search_results:\n",
    "        if result[0].startswith(book):\n",
    "            return result[1]\n",
    "    # automatically opens the search url of a book title that isn't found\n",
    "    browser = webbrowser.get('windows-default')\n",
    "    browser.open(row['goodreads search'])\n",
    "    return None"
   ]
  },
  {
   "cell_type": "code",
   "execution_count": 4,
   "id": "d73b5d34-1faf-41b0-be78-cef2b44a01fc",
   "metadata": {
    "editable": true,
    "slideshow": {
     "slide_type": ""
    },
    "tags": []
   },
   "outputs": [],
   "source": [
    "def g_rating(soup):\n",
    "    try:\n",
    "        # Returns the soup's rating\n",
    "        return float(soup.find('div', {'class': 'RatingStatistics__rating'}).contents[0])\n",
    "    except:\n",
    "        print('Error finding the rating in soup:', soup.find('title').contents[0])\n",
    "        return None\n",
    "def g_genre(soup):\n",
    "    try:\n",
    "        # generates a list of genre tags\n",
    "        tags = soup.find('ul', {'aria-label': 'Top genres for this book'}).find_all('span', {'class' : 'Button__labelItem'})\n",
    "        # gets the content of each tag in the list\n",
    "        genres = [genre.contents[0] for genre in tags]\n",
    "        # removes the last category if it is ...more\n",
    "        if genres[-1] == '...more':\n",
    "            del genres[-1]\n",
    "        return genres\n",
    "    except:\n",
    "        print('Error finding the categories in soup:', soup.find('title').contents[0])\n",
    "        return None\n",
    "def g_published(soup):\n",
    "    try:\n",
    "        contents = soup.find('p', {'data-testid' : 'publicationInfo'}).contents[0]\n",
    "        date = contents.replace('First published ', '').replace('Published ', '')\n",
    "        return pd.to_datetime(date, format='%B %d, %Y')\n",
    "    except:\n",
    "        print('Error finding the publication info in soup:', soup.find('title').contents[0])\n",
    "        return None\n",
    "def g_pages(soup):\n",
    "    try:\n",
    "        contents = soup.find('p', {'data-testid' : 'pagesFormat'}).contents[0]\n",
    "        return int(contents.split(' ')[0])\n",
    "    except:\n",
    "        print('Error finding the pages in soup:', soup.find('title').contents[0])\n",
    "        return None\n",
    "def g_author(soup):\n",
    "    try:\n",
    "        return soup.find('span', {'class' : 'ContributorLink__name'}).contents[0]\n",
    "    except:\n",
    "        print('Error finding the author in soup:', soup.find('title').contents[0])\n",
    "        return None\n",
    "def g_scrape(url):\n",
    "    # collects all the scraped data and returns it as a Series\n",
    "    soup = soup_cooker(url)\n",
    "    return pd.Series([g_rating(soup), g_genre(soup), g_author(soup), g_pages(soup), g_published(soup)])"
   ]
  },
  {
   "cell_type": "code",
   "execution_count": 5,
   "id": "b90421c9-1fcc-4521-9a10-fc155c3e1f24",
   "metadata": {
    "editable": true,
    "slideshow": {
     "slide_type": ""
    },
    "tags": []
   },
   "outputs": [
    {
     "name": "stdout",
     "output_type": "stream",
     "text": [
      "Scraping: Search results for \"Do Androids Dream of Electric Sheep?\" (showing 1-10 of 153 books)\n",
      "Scraping: Search results for \"The Call of Cthulhu\" (showing 1-10 of 489 books)\n",
      "Scraping: Search results for \"Guards! Guards!\" (showing 1-10 of 25402 books)\n",
      "Scraping: Search results for \"Blood Meridian\" (showing 1-10 of 57 books)\n",
      "Scraping: Search results for \"The Blade Itself\" (showing 1-10 of 26 books)\n",
      "Scraping: Search results for \"Circe\" (showing 1-10 of 1332 books)\n",
      "Scraping: Search results for \"The Plague\" (showing 1-10 of 5524 books)\n",
      "Scraping: Search results for \"The Book Thief\" (showing 1-10 of 1132 books)\n",
      "Scraping: Search results for \"Running With Sherman\" (showing 1-4 of 4 books)\n",
      "Scraping: Search results for \"The Things They Carried\" (showing 1-10 of 95 books)\n",
      "Scraping: Search results for \"The Little Prince\" (showing 1-10 of 3567 books)\n",
      "Scraping: Search results for \"The Fifth Season\" (showing 1-10 of 2123 books)\n",
      "Scraping: Search results for \"Kings of the Wyld\" (showing 1-2 of 2 books)\n",
      "Scraping: Search results for \"The Shadow of What Was Lost\" (showing 1-2 of 2 books)\n",
      "Scraping: Search results for \"The Drunken Botanist\" (showing 1-3 of 3 books)\n",
      "Scraping: Search results for \"A Sand County Almanac\" (showing 1-10 of 37 books)\n",
      "Scraping: Search results for \"Skeleton Crew\" (showing 1-10 of 139 books)\n",
      "Scraping: Search results for \"Shōgun\" (showing 1-10 of 1269 books)\n",
      "Scraping: Search results for \"Into Thin Air\" (showing 1-10 of 165 books)\n",
      "Scraping: Search results for \"A Walk in the Woods\" (showing 1-10 of 386 books)\n",
      "Scraping: Search results for \"Rita Hayworth and Shawshank Redemption\" (showing 1-10 of 11 books)\n",
      "Scraping: Search results for \"Thousand Year Old Vampire\" (showing 1-2 of 2 books)\n",
      "Scraping: Search results for \"Children of Blood and Bone\" (showing 1-10 of 36 books)\n",
      "Scraping: Search results for \"The Player of Games\" (showing 1-9 of 406 books)\n",
      "Scraping: Search results for \"American Kingpin\" (showing 1-10 of 20 books)\n",
      "Scraping: Search results for \"Project Hail Mary\" (showing 1-10 of 39 books)\n",
      "Scraping: Search results for \"The Spy Who Came In from the Cold\" (showing 1-10 of 70 books)\n",
      "Scraping: Search results for \"Promise of Blood\" (showing 1-10 of 57 books)\n",
      "Scraping: Search results for \"The Wandering Inn\" (showing 1-10 of 21 books)\n",
      "Scraping: Search results for \"These Silent Woods\" (showing 1-1 of 1 books)\n",
      "Scraping: Search results for \"The Starless Sea\" (showing 1-8 of 9 books)\n",
      "Scraping: Search results for \"Maybe You Should Talk to Someone\" (showing 1-10 of 114 books)\n",
      "Scraping: Search results for \"Bad Blood: Secrets and Lies in a Silicon Valley Startup\" (showing 1-10 of 51 books)\n",
      "Scraping: Search results for \"The King in Yellow\" (showing 1-10 of 283 books)\n",
      "Scraping: Search results for \"A Wizard of Earthsea\" (showing 1-10 of 47 books)\n",
      "Scraping: Search results for \"Just Mercy\" (showing 1-10 of 639 books)\n",
      "Scraping: Search results for \"Hell at the Breech\" (showing 1-1 of 1 books)\n",
      "Scraping: Search results for \"My Year of Rest and Relaxation\" (showing 1-9 of 9 books)\n",
      "Scraping: Search results for \"The Color Purple\" (showing 1-10 of 1041 books)\n",
      "Scraping: Search results for \"Brother &amp; Sister enter the Forest\" (showing 1-2 of 2 books)\n",
      "Scraping: Search results for \"Tomorrow and Tomorrow and Tomorrow\" (showing 1-10 of 10113 books)\n",
      "Scraping: Search results for \"Red Notice\" (showing 1-9 of 392 books)\n",
      "Scraping: Search results for \"Half of a Yellow Sun\" (showing 1-10 of 23 books)\n",
      "Scraping: Do Androids Dream of Electric Sheep? by Philip K. Dick | Goodreads\n",
      "Scraping: The Call of Cthulhu by H.P. Lovecraft | Goodreads\n",
      "Scraping: Guards! Guards! (Discworld, #8; City Watch, #1) by Terry Pratchett | Goodreads\n",
      "Scraping: Blood Meridian, or, the Evening Redness in the West by Cormac McCarthy | Goodreads\n",
      "Scraping: The Blade Itself by Marcus Sakey | Goodreads\n",
      "Scraping: Circe by Madeline Miller | Goodreads\n",
      "Scraping: The Plague by Albert Camus | Goodreads\n",
      "Scraping: The Book Thief by Markus Zusak | Goodreads\n",
      "Scraping: Running with Sherman by Christopher McDougall | Goodreads\n",
      "Scraping: The Things They Carried by Tim O'Brien | Goodreads\n",
      "Scraping: The Little Prince by Antoine de Saint-Exupéry | Goodreads\n",
      "Scraping: The Fifth Season (The Broken Earth, #1) by N.K. Jemisin | Goodreads\n",
      "Scraping: Kings of the Wyld (The Band, #1) by Nicholas Eames | Goodreads\n",
      "Scraping: The Shadow of What Was Lost by James  Islington | Goodreads\n",
      "Scraping: The Drunken Botanist: The Plants That Create the World's Great Drinks by Amy  Stewart | Goodreads\n",
      "Scraping: A Sand County Almanac by Aldo Leopold | Goodreads\n",
      "Scraping: Skeleton Crew by Stephen King | Goodreads\n",
      "Scraping: Shōgun (Asian Saga, #1) by James Clavell | Goodreads\n",
      "Scraping: Into Thin Air by Kristina Beck | Goodreads\n",
      "Scraping: A Walk in the Woods by Nikki Grimes | Goodreads\n",
      "Scraping: Rita Hayworth and Shawshank Redemption by Stephen King | Goodreads\n",
      "Scraping: Thousand Year Old Vampire by Tim Hutchings | Goodreads\n",
      "Scraping: Children of Blood and Bone (Legacy of Orïsha, #1) by Tomi Adeyemi | Goodreads\n",
      "Scraping: The Player of Games (Culture, #2) by Iain M. Banks | Goodreads\n",
      "Scraping: American Kingpin: The Epic Hunt for the Criminal Mastermind Behind the Silk Road by Nick Bilton | Goodreads\n",
      "Scraping: Project Hail Mary by Andy Weir | Goodreads\n",
      "Scraping: The Spy Who Came In from the Cold by John le Carré | Goodreads\n",
      "Scraping: Promise of Blood (Powder Mage, #1) by Brian  McClellan | Goodreads\n",
      "Scraping: The Wandering Inn: Book 1 (The Wandering Inn, #1) by Pirateaba | Goodreads\n",
      "Scraping: These Silent Woods by Kimi Cunningham Grant | Goodreads\n",
      "Scraping: The Starless Sea by Erin Morgenstern | Goodreads\n",
      "Scraping: Maybe You Should Talk to Someone by Lori Gottlieb | Goodreads\n",
      "Scraping: Bad Blood: Secrets and Lies in a Silicon Valley Startup by John Carreyrou | Goodreads\n",
      "Scraping: The King in Yellow by Robert W. Chambers | Goodreads\n",
      "Scraping: A Wizard of Earthsea (Earthsea Cycle, #1) by Ursula K. Le Guin | Goodreads\n",
      "Scraping: Just Mercy by Bryan Stevenson | Goodreads\n",
      "Scraping: Hell at the Breech by Tom Franklin | Goodreads\n",
      "Scraping: My Year of Rest and Relaxation by Ottessa Moshfegh | Goodreads\n",
      "Scraping: The Color Purple by Alice Walker | Goodreads\n",
      "Scraping: Brother & Sister Enter the Forest by Richard Mirabella | Goodreads\n",
      "Scraping: Tomorrow and tomorrow and tomorrow by M. Barnard Eldershaw | Goodreads\n",
      "Scraping: Red Notice: A True Story of High Finance, Murder, and One Man's Fight for Justice by Bill Browder | Goodreads\n",
      "Scraping: Half of a Yellow Sun by Chimamanda Ngozi Adichie | Goodreads\n"
     ]
    }
   ],
   "source": [
    "if 'goodreads' in book_club.columns:\n",
    "    mask = book_club['goodreads'].isnull()\n",
    "    book_club.loc[mask,['g_rating', 'g_genre', 'g_author', 'g_pages', 'g_published']] = book_club[mask].apply(g_url, axis=1).apply(g_scrape)\n",
    "    book_club.to_json('book_club.json', orient='records')\n",
    "else:\n",
    "    book_club[['g_rating', 'g_genre', 'g_author', 'g_pages', 'g_published']] = book_club.apply(g_url, axis=1).apply(g_scrape)\n",
    "    book_club.to_json('book_club.json', orient='records')"
   ]
  },
  {
   "cell_type": "markdown",
   "id": "50b0d548-b65c-49a0-9f79-a0baebbc3d0c",
   "metadata": {},
   "source": []
  },
  {
   "cell_type": "code",
   "execution_count": 7,
   "id": "c9499636-acf1-47b6-8908-e4d4e5a14ac7",
   "metadata": {
    "editable": true,
    "slideshow": {
     "slide_type": ""
    },
    "tags": []
   },
   "outputs": [],
   "source": []
  },
  {
   "cell_type": "code",
   "execution_count": null,
   "id": "7d369f66-d340-4d71-a48c-0212daba8117",
   "metadata": {
    "editable": true,
    "slideshow": {
     "slide_type": ""
    },
    "tags": []
   },
   "outputs": [],
   "source": []
  },
  {
   "cell_type": "code",
   "execution_count": null,
   "id": "7ff2a5d5-dcbf-46b4-b6bf-7dd067c2f646",
   "metadata": {},
   "outputs": [],
   "source": []
  },
  {
   "cell_type": "code",
   "execution_count": null,
   "id": "8578ad90-8d08-4e9e-9dd3-12193b7d9562",
   "metadata": {
    "editable": true,
    "slideshow": {
     "slide_type": ""
    },
    "tags": []
   },
   "outputs": [],
   "source": []
  }
 ],
 "metadata": {
  "kernelspec": {
   "display_name": "Python 3 (ipykernel)",
   "language": "python",
   "name": "python3"
  },
  "language_info": {
   "codemirror_mode": {
    "name": "ipython",
    "version": 3
   },
   "file_extension": ".py",
   "mimetype": "text/x-python",
   "name": "python",
   "nbconvert_exporter": "python",
   "pygments_lexer": "ipython3",
   "version": "3.12.1"
  }
 },
 "nbformat": 4,
 "nbformat_minor": 5
}
